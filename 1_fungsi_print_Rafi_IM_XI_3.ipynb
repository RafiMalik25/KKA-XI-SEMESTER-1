{
  "nbformat": 4,
  "nbformat_minor": 0,
  "metadata": {
    "colab": {
      "provenance": [],
      "authorship_tag": "ABX9TyO1p8rfDQEQVcovAlNLSBKU",
      "include_colab_link": true
    },
    "kernelspec": {
      "name": "python3",
      "display_name": "Python 3"
    },
    "language_info": {
      "name": "python"
    }
  },
  "cells": [
    {
      "cell_type": "markdown",
      "metadata": {
        "id": "view-in-github",
        "colab_type": "text"
      },
      "source": [
        "<a href=\"https://colab.research.google.com/github/RafiMalik25/KKA-XI-SEMESTER-1/blob/main/1_fungsi_print_Rafi_IM_XI_3.ipynb\" target=\"_parent\"><img src=\"https://colab.research.google.com/assets/colab-badge.svg\" alt=\"Open In Colab\"/></a>"
      ]
    },
    {
      "cell_type": "markdown",
      "source": [
        "Nama:Rafi Ikhsanul Malik\n",
        "\n",
        "Kelas:XI.3\n",
        "\n",
        "No.Absen:21"
      ],
      "metadata": {
        "id": "lTE1Zm-SUJRp"
      }
    },
    {
      "cell_type": "markdown",
      "source": [
        "#Menampilkan String (Teks Bebas)"
      ],
      "metadata": {
        "id": "K8aE3k8TUviB"
      }
    },
    {
      "cell_type": "code",
      "execution_count": null,
      "metadata": {
        "colab": {
          "base_uri": "https://localhost:8080/"
        },
        "id": "o0smuyU2UDGd",
        "outputId": "ffa5943a-3b13-4fc4-e22a-8e3419adc8fa"
      },
      "outputs": [
        {
          "output_type": "stream",
          "name": "stdout",
          "text": [
            "Rafi Ikhsanul Malik\n"
          ]
        }
      ],
      "source": [
        "print(\"Rafi Ikhsanul Malik\")"
      ]
    },
    {
      "cell_type": "markdown",
      "source": [
        "#Menampilkan Nilai Variabel"
      ],
      "metadata": {
        "id": "m-xGalv_VERh"
      }
    },
    {
      "cell_type": "code",
      "source": [
        "Nama = \"Rafi Ikhsanul Mlaik\"\n",
        "usia = 16\n",
        "Tinggi_Badan =172\n",
        "\n",
        "\n",
        "\n",
        "print(Nama)\n",
        "print(usia)\n",
        "print(Tinggi_Badan)"
      ],
      "metadata": {
        "colab": {
          "base_uri": "https://localhost:8080/"
        },
        "id": "LU-4RaTfVKH4",
        "outputId": "b2ca980c-de08-4c2c-8345-66aa27898fe0"
      },
      "execution_count": null,
      "outputs": [
        {
          "output_type": "stream",
          "name": "stdout",
          "text": [
            "Rafi Ikhsanul Mlaik\n",
            "16\n",
            "172\n"
          ]
        }
      ]
    },
    {
      "cell_type": "markdown",
      "source": [
        "#Menampilkan String dan Nilai Variabel"
      ],
      "metadata": {
        "id": "8sIZekY5SiD7"
      }
    },
    {
      "cell_type": "markdown",
      "source": [],
      "metadata": {
        "id": "BvlfdQWnS6DV"
      }
    },
    {
      "cell_type": "code",
      "source": [
        "print(\"Hallo nama saya\",Nama,\".Tinggi badan saya adalah\",Tinggi_Badan,\"cm.\")"
      ],
      "metadata": {
        "colab": {
          "base_uri": "https://localhost:8080/"
        },
        "id": "SJ0kJ_d1UaSc",
        "outputId": "74cea6bf-c334-4550-d7de-e38de78ee6a1"
      },
      "execution_count": null,
      "outputs": [
        {
          "output_type": "stream",
          "name": "stdout",
          "text": [
            "Hallo nama saya Rafi Ikhsanul Mlaik .Tinggi badan saya adalah 172 cm.\n"
          ]
        }
      ]
    },
    {
      "cell_type": "code",
      "source": [
        "print(\"Usia saya adalah\",usia,\"tahun.\")"
      ],
      "metadata": {
        "colab": {
          "base_uri": "https://localhost:8080/"
        },
        "id": "HhEf-mqvU2_B",
        "outputId": "d50422a2-2f03-4b60-a0dd-8a7285a6ac0a"
      },
      "execution_count": null,
      "outputs": [
        {
          "output_type": "stream",
          "name": "stdout",
          "text": [
            "Usia saya adalah 16 tahun.\n"
          ]
        }
      ]
    },
    {
      "cell_type": "markdown",
      "source": [
        "#Latihan:"
      ],
      "metadata": {
        "id": "0mWLxR3eVHin"
      }
    },
    {
      "cell_type": "code",
      "source": [
        "Berat_Badan =67\n",
        "\n",
        "\n",
        "print(Berat_Badan)"
      ],
      "metadata": {
        "colab": {
          "base_uri": "https://localhost:8080/"
        },
        "id": "FZGvrpawVNHl",
        "outputId": "c6294352-3b76-4ae5-cd30-13863c912bfa"
      },
      "execution_count": null,
      "outputs": [
        {
          "output_type": "stream",
          "name": "stdout",
          "text": [
            "67\n"
          ]
        }
      ]
    },
    {
      "cell_type": "code",
      "source": [
        "print(\"Berat badan saya adalah\",Berat_Badan,\"kg.\")"
      ],
      "metadata": {
        "colab": {
          "base_uri": "https://localhost:8080/"
        },
        "id": "X-W8KQ1HVit7",
        "outputId": "92f195fd-cbd1-4c14-dd8c-ae533c6e1f09"
      },
      "execution_count": null,
      "outputs": [
        {
          "output_type": "stream",
          "name": "stdout",
          "text": [
            "Berat badan saya adalah 67 kg.\n"
          ]
        }
      ]
    },
    {
      "cell_type": "code",
      "source": [
        "print(\"Halo nama saya \"+ Nama+ \". Tinggi badan saya adalah \"+ str(Tinggi_Badan)+\" cm.\")"
      ],
      "metadata": {
        "colab": {
          "base_uri": "https://localhost:8080/"
        },
        "id": "_aN_5h3OahUM",
        "outputId": "0215d628-c699-4522-be17-8abf0e038e8d"
      },
      "execution_count": null,
      "outputs": [
        {
          "output_type": "stream",
          "name": "stdout",
          "text": [
            "Halo nama saya Rafi Ikhsanul Mlaik. Tinggi badan saya adalah 172 cm.\n"
          ]
        }
      ]
    },
    {
      "cell_type": "code",
      "source": [
        "print(f\"Halo nama saya {Nama}. Tinggi badan saya adalah {Tinggi_Badan} cm.\")"
      ],
      "metadata": {
        "colab": {
          "base_uri": "https://localhost:8080/"
        },
        "id": "KahyD9Debrsl",
        "outputId": "be44c467-8891-441d-d5a3-4cb13265366b"
      },
      "execution_count": null,
      "outputs": [
        {
          "output_type": "stream",
          "name": "stdout",
          "text": [
            "Halo nama saya Rafi Ikhsanul Mlaik. Tinggi badan saya adalah 172 cm.\n"
          ]
        }
      ]
    },
    {
      "cell_type": "markdown",
      "source": [
        "#Escape Character"
      ],
      "metadata": {
        "id": "KoX0ZBkpVRks"
      }
    },
    {
      "cell_type": "code",
      "source": [
        "print(\"Nama \\t\\t: Rafi Ikhsanul Malik\\nKelas\\t\\t:XI.3\\nNo.Absen\\t: 21\")"
      ],
      "metadata": {
        "colab": {
          "base_uri": "https://localhost:8080/"
        },
        "id": "BK7zE1p_VV6F",
        "outputId": "68f0d176-0dc5-495c-b493-f68569ad3e17"
      },
      "execution_count": null,
      "outputs": [
        {
          "output_type": "stream",
          "name": "stdout",
          "text": [
            "Nama \t\t: Rafi Ikhsanul Malik\n",
            "Kelas\t\t:XI.3\n",
            "No.Absen\t: 21\n"
          ]
        }
      ]
    },
    {
      "cell_type": "code",
      "source": [
        "print(\"\"\"Nama\\t\\t:Rafi Ikhsanul Malik\n",
        "Kelas\\t\\t:XI.3\n",
        "No.Absen\\t:21\"\"\")"
      ],
      "metadata": {
        "colab": {
          "base_uri": "https://localhost:8080/"
        },
        "id": "XwoPRSffWh-V",
        "outputId": "e66cf9a7-86c5-4354-cd4a-e84fe93e3062"
      },
      "execution_count": null,
      "outputs": [
        {
          "output_type": "stream",
          "name": "stdout",
          "text": [
            "Nama\t\t:Rafi Ikhsanul Malik \n",
            "Kelas\t\t:XI.3\n",
            "No.Absen\t:21\n"
          ]
        }
      ]
    },
    {
      "cell_type": "code",
      "source": [
        "print(\"Nama \\t\\t: Rafi Ikhsnaul Malik\")\n",
        "print(\"Kelas\\t\\t: XI.3\")\n",
        "print(\"No.Absen\\t: 21\")"
      ],
      "metadata": {
        "colab": {
          "base_uri": "https://localhost:8080/"
        },
        "id": "f9As0uqgXDOk",
        "outputId": "f1bc2bd5-6749-49d4-e120-db73b59ffe97"
      },
      "execution_count": null,
      "outputs": [
        {
          "output_type": "stream",
          "name": "stdout",
          "text": [
            "Nama \t\t: Rafi Ikhsnaul Malik\n",
            "Kelas\t\t: XI.3\n",
            "No.Absen\t: 21\n"
          ]
        }
      ]
    },
    {
      "cell_type": "code",
      "source": [
        "print(\"Habib Ja\\'far\")"
      ],
      "metadata": {
        "colab": {
          "base_uri": "https://localhost:8080/"
        },
        "id": "QFz3Bs8nbXEW",
        "outputId": "65843f04-e3c5-41b8-d011-3c915ce8a80f"
      },
      "execution_count": null,
      "outputs": [
        {
          "output_type": "stream",
          "name": "stdout",
          "text": [
            "Habib Ja'far\n"
          ]
        }
      ]
    },
    {
      "cell_type": "code",
      "source": [
        "print(\"Rafi berkata, \\\"Minta hp iphone baru!\\\".\")"
      ],
      "metadata": {
        "colab": {
          "base_uri": "https://localhost:8080/"
        },
        "id": "oDC6Ut8XbtUH",
        "outputId": "5036ec77-2520-4007-fc87-9af54d3a0510"
      },
      "execution_count": null,
      "outputs": [
        {
          "output_type": "stream",
          "name": "stdout",
          "text": [
            "Rafi berkata, \"Minta hp iphone baru!\".\n"
          ]
        }
      ]
    },
    {
      "cell_type": "code",
      "source": [
        "print(\"Lokasi file penyimpanan tugas KKA ada di local disk D:\\\\MAN Demak\\\\KKA\\\\Tugas\")"
      ],
      "metadata": {
        "colab": {
          "base_uri": "https://localhost:8080/"
        },
        "id": "1EtqJoiZb_9u",
        "outputId": "37bb88e4-6d13-42fb-a9dd-f66ed26e23be"
      },
      "execution_count": null,
      "outputs": [
        {
          "output_type": "stream",
          "name": "stdout",
          "text": [
            "Lokasi file penyimpanan tugas KKA ada di local disk D:\\MAN Demak\\KKA\\Tugas\n"
          ]
        }
      ]
    },
    {
      "cell_type": "markdown",
      "source": [
        "#Parameter Fungsi Print"
      ],
      "metadata": {
        "id": "T9GD3HsvXwxR"
      }
    },
    {
      "cell_type": "code",
      "source": [
        "nama_siswa_1= \"Yafi\"\n",
        "nama_siswa_2= \"Wahyu\""
      ],
      "metadata": {
        "id": "EO-TVckSX1jr"
      },
      "execution_count": null,
      "outputs": []
    },
    {
      "cell_type": "code",
      "source": [
        "print(nama_siswa_1,end=\"&\")\n",
        "print(nama_siswa_2)"
      ],
      "metadata": {
        "colab": {
          "base_uri": "https://localhost:8080/"
        },
        "id": "LnWZ0n48YL_i",
        "outputId": "6f6debd9-36b5-4d08-dfb2-048128382d21"
      },
      "execution_count": null,
      "outputs": [
        {
          "output_type": "stream",
          "name": "stdout",
          "text": [
            "Yafi&Wahyu\n"
          ]
        }
      ]
    },
    {
      "cell_type": "code",
      "source": [
        "print(nama_siswa_1,nama_siswa_2,sep=\"/\")"
      ],
      "metadata": {
        "colab": {
          "base_uri": "https://localhost:8080/"
        },
        "id": "40tdDju2Yad-",
        "outputId": "8d6cb4b1-4519-4b9a-cc54-42c1078d8e20"
      },
      "execution_count": null,
      "outputs": [
        {
          "output_type": "stream",
          "name": "stdout",
          "text": [
            "Yafi/Wahyu\n"
          ]
        }
      ]
    },
    {
      "cell_type": "code",
      "source": [
        "nama_siswa_3= \"Dzakka\"\n",
        "nama_siswa_4= \"Haikal\"\n",
        "nama_siswa_5= \"Hilma\""
      ],
      "metadata": {
        "id": "Q2_pQQL4You_"
      },
      "execution_count": null,
      "outputs": []
    },
    {
      "cell_type": "code",
      "source": [
        "print(nama_siswa_5,end=\"*\")\n",
        "print(nama_siswa_4,end=\"*\")\n",
        "print(nama_siswa_3,end=\"*\")\n",
        "print(nama_siswa_5)"
      ],
      "metadata": {
        "colab": {
          "base_uri": "https://localhost:8080/"
        },
        "id": "8p4lUGvDY7Gx",
        "outputId": "7bf9d155-bcb5-47c6-ed1c-ae3ca9f1bdd5"
      },
      "execution_count": null,
      "outputs": [
        {
          "output_type": "stream",
          "name": "stdout",
          "text": [
            "Hilma*Haikal*Dzakka*Hilma\n"
          ]
        }
      ]
    },
    {
      "cell_type": "code",
      "source": [
        "print(nama_siswa_4,nama_siswa_3,nama_siswa_5,nama_siswa_3,sep=\"~\")"
      ],
      "metadata": {
        "colab": {
          "base_uri": "https://localhost:8080/"
        },
        "id": "jO4zdelKZjhB",
        "outputId": "29e6a374-1b09-4f34-836f-e6c92245335d"
      },
      "execution_count": null,
      "outputs": [
        {
          "output_type": "stream",
          "name": "stdout",
          "text": [
            "Haikal~Dzakka~Hilma~Dzakka\n"
          ]
        }
      ]
    }
  ]
}